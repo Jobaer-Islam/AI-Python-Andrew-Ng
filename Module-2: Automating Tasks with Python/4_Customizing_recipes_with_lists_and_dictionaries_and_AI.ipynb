{
 "cells": [
  {
   "cell_type": "markdown",
   "id": "f6bf49f7-21f0-47bc-9a3e-7fd325a0b9bf",
   "metadata": {},
   "source": [
    "# Lesson 4 - Customizing recipes with lists, dictionaries and AI"
   ]
  },
  {
   "cell_type": "markdown",
   "id": "a9f73957",
   "metadata": {},
   "source": [
    "In the previous lesson, you went through how to use dictionaries to complete tasks by priority. In this lesson, you will see how you can use dictionaries to update LLM prompts and create food recipies that match your friends preferences, restrictions and cooking experience. "
   ]
  },
  {
   "cell_type": "code",
   "execution_count": 1,
   "id": "0669df5d-5013-466b-90c8-679364ff80a1",
   "metadata": {
    "height": 30
   },
   "outputs": [],
   "source": [
    "from helper_functions import print_llm_response, get_llm_response"
   ]
  },
  {
   "cell_type": "markdown",
   "id": "f2ddd461",
   "metadata": {},
   "source": [
    "## Food preference dictionaries\n",
    "\n",
    "Dictionaries are a useful way to organize multiple variables associated with a single entity, like one of your friends. In the next dictionary, you store the food preferences and cooking experience for Jobaer."
   ]
  },
  {
   "cell_type": "code",
   "execution_count": 10,
   "id": "5ccb6d62",
   "metadata": {
    "height": 115
   },
   "outputs": [],
   "source": [
    "food_preferences_Jobaer = {\n",
    "        \"dietary_restrictions\": \"non-vegetarian\",\n",
    "        \"favorite_ingredients\": [\"meat\", \"mutton\"],\n",
    "        \"experience_level\": \"intermediate\",\n",
    "        \"maximum_spice_level\": 6\n",
    "}"
   ]
  },
  {
   "cell_type": "markdown",
   "id": "b27a261d",
   "metadata": {},
   "source": [
    "As you can see there, that dictionary has four keys, wich you can access using `\".keys()\"`:"
   ]
  },
  {
   "cell_type": "code",
   "execution_count": 11,
   "id": "8849cd3c",
   "metadata": {
    "height": 30
   },
   "outputs": [
    {
     "name": "stdout",
     "output_type": "stream",
     "text": [
      "dict_keys(['dietary_restrictions', 'favorite_ingredients', 'experience_level', 'maximum_spice_level'])\n"
     ]
    }
   ],
   "source": [
    "print(food_preferences_Jobaer.keys())"
   ]
  },
  {
   "cell_type": "markdown",
   "id": "d73a2a44",
   "metadata": {},
   "source": [
    "And it has values with different data types: lists, strings and integers. "
   ]
  },
  {
   "cell_type": "code",
   "execution_count": 12,
   "id": "31f98465",
   "metadata": {
    "height": 30
   },
   "outputs": [
    {
     "name": "stdout",
     "output_type": "stream",
     "text": [
      "dict_values(['non-vegetarian', ['meat', 'mutton'], 'intermediate', 6])\n"
     ]
    }
   ],
   "source": [
    "print(food_preferences_Jobaer.values())"
   ]
  },
  {
   "cell_type": "markdown",
   "id": "4d786ed3",
   "metadata": {},
   "source": [
    "Let's see how you can use these in a prompt to create recipes that take into account your friends dietary preferences."
   ]
  },
  {
   "cell_type": "markdown",
   "id": "5241f8b9",
   "metadata": {},
   "source": [
    "## Using keys and values within AI prompt"
   ]
  },
  {
   "cell_type": "markdown",
   "id": "6a8f30dc",
   "metadata": {},
   "source": [
    "So here's a prompt that uses all the information in the dictionary to create a customized recipe"
   ]
  },
  {
   "cell_type": "code",
   "execution_count": 13,
   "id": "463a6d2a",
   "metadata": {
    "height": 200
   },
   "outputs": [],
   "source": [
    "prompt = f\"\"\"Please suggest a recipe that tries to include \n",
    "the following ingredients: \n",
    "{food_preferences_Jobaer[\"favorite_ingredients\"]}.\n",
    "The recipe should adhere to the following dietary restrictions:\n",
    "{food_preferences_Jobaer[\"dietary_restrictions\"]}.\n",
    "The difficulty of the recipe should be: \n",
    "{food_preferences_Jobaer[\"experience_level\"]}\n",
    "The maximum spice level on a scale of 10 should be: \n",
    "{food_preferences_Jobaer[\"maximum_spice_level\"]} \n",
    "Provide a two sentence description.\n",
    "\"\"\""
   ]
  },
  {
   "cell_type": "markdown",
   "id": "b24af997",
   "metadata": {},
   "source": [
    "Run the cell below to print the prompt."
   ]
  },
  {
   "cell_type": "code",
   "execution_count": 20,
   "id": "6cceec03-639e-460c-a0d6-b34adb2cd28d",
   "metadata": {
    "height": 30
   },
   "outputs": [
    {
     "name": "stdout",
     "output_type": "stream",
     "text": [
      "Please suggest a recipe that tries to include \n",
      "the following ingredients: \n",
      "['meat', 'mutton'].\n",
      "The recipe should adhere to the following dietary restrictions:\n",
      "non-vegetarian.\n",
      "The difficulty of the recipe should be: \n",
      "intermediate\n",
      "The maximum spice level on a scale of 10 should be: \n",
      "6 \n",
      "Provide a two sentence description.\n",
      "\n",
      "The recipe should not include spices outside of this list:\n",
      "Spices: ['Garam Masala', 'Cumin Seeds', 'Coriander Powder', 'Saffron', 'Red Chili Powder', 'Black Cardamom']\n",
      "\n"
     ]
    }
   ],
   "source": [
    "print(prompt)"
   ]
  },
  {
   "cell_type": "markdown",
   "id": "10b37203",
   "metadata": {},
   "source": [
    "Now, you can use that prompt with an LLM to suggest a recipe to fit Tommy's preferences:"
   ]
  },
  {
   "cell_type": "code",
   "execution_count": 21,
   "id": "14850b74",
   "metadata": {
    "height": 47
   },
   "outputs": [
    {
     "name": "stdout",
     "output_type": "stream",
     "text": [
      "____________________________________________________________________________________________________\n",
      "**Mutton Biryani**\n",
      "\n",
      "This flavorful mutton biryani combines tender pieces of mutton with fragrant basmati rice, infused with garam masala, cumin seeds, and a hint of saffron for richness. The dish is layered and cooked slowly to allow the spices to meld, achieving a balanced spice level of 6.\n",
      "____________________________________________________________________________________________________\n",
      "\n",
      "\n"
     ]
    }
   ],
   "source": [
    "print_llm_response(prompt)\n"
   ]
  },
  {
   "cell_type": "markdown",
   "id": "e00bb0c1",
   "metadata": {},
   "source": [
    "The model followed the instructions. Tommy will be delighted!"
   ]
  },
  {
   "cell_type": "markdown",
   "id": "86e7ba47",
   "metadata": {},
   "source": [
    "## Refining the prompt with available ingredients"
   ]
  },
  {
   "cell_type": "markdown",
   "id": "e813a9b6",
   "metadata": {},
   "source": [
    "You can go a step further and consider the available ingredients at your house. To do so, let's use the following lists:"
   ]
  },
  {
   "cell_type": "code",
   "execution_count": 22,
   "id": "72256217-4474-4c48-a87d-36b444c25ea6",
   "metadata": {
    "height": 30
   },
   "outputs": [],
   "source": [
    "available_spices = [\"Garam Masala\", \"Cumin Seeds\", \"Coriander Powder\", \"Saffron\",\"Red Chili Powder\", \"Black Cardamom\"]"
   ]
  },
  {
   "cell_type": "markdown",
   "id": "b2f46ab1",
   "metadata": {},
   "source": [
    "You can add these directly to the prompt so that the LLM take those into consideration"
   ]
  },
  {
   "cell_type": "code",
   "execution_count": 23,
   "id": "3b73cd00-bf5e-4865-9a05-07e7f68b1296",
   "metadata": {
    "height": 268
   },
   "outputs": [
    {
     "name": "stdout",
     "output_type": "stream",
     "text": [
      "Please suggest a recipe that tries to include \n",
      "the following ingredients: \n",
      "['meat', 'mutton'].\n",
      "The recipe should adhere to the following dietary restrictions:\n",
      "non-vegetarian.\n",
      "The difficulty of the recipe should be: \n",
      "intermediate\n",
      "The maximum spice level on a scale of 10 should be: \n",
      "6 \n",
      "Provide a two sentence description.\n",
      "\n",
      "The recipe should not include spices outside of this list:\n",
      "Spices: ['Garam Masala', 'Cumin Seeds', 'Coriander Powder', 'Saffron', 'Red Chili Powder', 'Black Cardamom']\n",
      "\n"
     ]
    }
   ],
   "source": [
    "prompt = f\"\"\"Please suggest a recipe that tries to include \n",
    "the following ingredients: \n",
    "{food_preferences_Jobaer[\"favorite_ingredients\"]}.\n",
    "The recipe should adhere to the following dietary restrictions:\n",
    "{food_preferences_Jobaer[\"dietary_restrictions\"]}.\n",
    "The difficulty of the recipe should be: \n",
    "{food_preferences_Jobaer[\"experience_level\"]}\n",
    "The maximum spice level on a scale of 10 should be: \n",
    "{food_preferences_Jobaer[\"maximum_spice_level\"]} \n",
    "Provide a two sentence description.\n",
    "\n",
    "The recipe should not include spices outside of this list:\n",
    "Spices: {available_spices}\n",
    "\"\"\"\n",
    "print(prompt)"
   ]
  },
  {
   "cell_type": "markdown",
   "id": "4a78b961",
   "metadata": {},
   "source": [
    "Now, get the LLM response to that prompt and assign it to a variable:"
   ]
  },
  {
   "cell_type": "code",
   "execution_count": 24,
   "id": "bc9f9acf",
   "metadata": {
    "height": 30
   },
   "outputs": [],
   "source": [
    "recipe = get_llm_response(prompt)"
   ]
  },
  {
   "cell_type": "markdown",
   "id": "c87c1079",
   "metadata": {},
   "source": [
    "And print the recipe that considers Tommy's restrictions as well as the available ingredients at your house."
   ]
  },
  {
   "cell_type": "code",
   "execution_count": 25,
   "id": "d211dac7",
   "metadata": {
    "height": 30
   },
   "outputs": [
    {
     "name": "stdout",
     "output_type": "stream",
     "text": [
      "**Mutton Biryani**: This flavorful mutton biryani combines tender pieces of mutton with fragrant basmati rice, infused with garam masala and a hint of saffron for richness. The dish is layered and cooked to perfection, offering a satisfying meal with a moderate spice level. \n",
      "\n",
      "**Ingredients**: \n",
      "- 500g mutton, cut into pieces\n",
      "- 2 cups basmati rice\n",
      "- 1 large onion, sliced\n",
      "- 2 tablespoons garam masala\n",
      "- 1 teaspoon cumin seeds\n",
      "- 1 teaspoon coriander powder\n",
      "- 1/2 teaspoon red chili powder\n",
      "- A pinch of saffron\n",
      "- Salt to taste\n",
      "- 4 cups water\n",
      "- 2 tablespoons oil or ghee\n",
      "\n",
      "**Instructions**:\n",
      "1. In a pot, heat oil or ghee and sauté the sliced onions until golden brown. Add mutton, cumin seeds, garam masala, coriander powder, red chili powder, and salt; cook until the mutton is browned.\n",
      "2. Add water and bring to a boil, then simmer until the mutton is tender. Meanwhile, soak the basmati rice for 30 minutes, then cook it separately until 70% done. Layer the partially cooked rice over the mutton, sprinkle saffron, cover, and cook on low heat for 20-25 minutes until fully cooked.\n"
     ]
    }
   ],
   "source": [
    "print(recipe)"
   ]
  },
  {
   "cell_type": "markdown",
   "id": "8dd1eebb",
   "metadata": {},
   "source": [
    "Try changing the prompt to give you step-by-step instructions and try adding a key-value pair to the dictionary that indicates favorite cuisine."
   ]
  },
  {
   "cell_type": "markdown",
   "id": "d21d016e-e278-47f9-a3da-b031eb6905e9",
   "metadata": {},
   "source": [
    "## Looking ahead"
   ]
  },
  {
   "cell_type": "markdown",
   "id": "71e7f4a4-efbe-4bbb-a6b4-60305a2e5427",
   "metadata": {},
   "source": [
    "Let's take another look at`food_preferences_Jobaer[\"dietary_restrictions\"]` "
   ]
  },
  {
   "cell_type": "code",
   "execution_count": 27,
   "id": "91bb95c7-1940-452d-a120-149bf8db61c7",
   "metadata": {
    "height": 30
   },
   "outputs": [
    {
     "name": "stdout",
     "output_type": "stream",
     "text": [
      "non-vegetarian\n"
     ]
    }
   ],
   "source": [
    "print(food_preferences_Jobaer[\"dietary_restrictions\"])"
   ]
  },
  {
   "cell_type": "markdown",
   "id": "b5f5fe5e-feae-4a8a-9e11-9cfb99958df2",
   "metadata": {},
   "source": [
    "Here is a different way you could tell Python that Tommy is vegetarian:"
   ]
  },
  {
   "cell_type": "code",
   "execution_count": 28,
   "id": "c447a119-a75b-4f83-87e1-81a6f4e34c13",
   "metadata": {
    "height": 30
   },
   "outputs": [],
   "source": [
    "food_preferences_Jobaer[\"is_vegetarian\"] = True"
   ]
  },
  {
   "cell_type": "code",
   "execution_count": 29,
   "id": "bfea6233-99af-43b8-b26f-6ba0696f34c6",
   "metadata": {
    "height": 30
   },
   "outputs": [
    {
     "name": "stdout",
     "output_type": "stream",
     "text": [
      "{'dietary_restrictions': 'non-vegetarian', 'favorite_ingredients': ['meat', 'mutton'], 'experience_level': 'intermediate', 'maximum_spice_level': 6, 'is_vegetarian': True}\n"
     ]
    }
   ],
   "source": [
    "print(food_preferences_Jobaer)"
   ]
  },
  {
   "cell_type": "markdown",
   "id": "3e43d1db-4ce2-4444-9c47-d0ae02370976",
   "metadata": {},
   "source": [
    "Go to next video to see what `True` and `False` are and how they work in Python"
   ]
  },
  {
   "cell_type": "markdown",
   "id": "cc7e65ef-1983-43d0-93b5-ce29a2c9f387",
   "metadata": {},
   "source": [
    "## Extra practice"
   ]
  },
  {
   "cell_type": "markdown",
   "id": "7389bce5-8c0d-41cf-b347-01c741078ef0",
   "metadata": {},
   "source": [
    "Please go through the exercises in the cells below if you want some extra practice for the topics you covered in this lesson."
   ]
  },
  {
   "cell_type": "code",
   "execution_count": 35,
   "id": "83969e6c-e89b-4061-8a9b-69764225dccd",
   "metadata": {
    "height": 249
   },
   "outputs": [
    {
     "name": "stdout",
     "output_type": "stream",
     "text": [
      "{'dietary_restrictions': ['Halal'], 'favorite_ingredients': ['Chicken', 'Beef', 'Rice', 'Lentils', 'Olive Oil'], 'experience_level': 'Expert', 'maximum_spice_level': 10}\n"
     ]
    }
   ],
   "source": [
    "# Update the following dictionary \n",
    "# with your own preferences \n",
    "\n",
    "### EDIT THE FOLLOWING CODE ###\n",
    "my_food_preferences = {\n",
    "        \"dietary_restrictions\": [\"Halal\"], #List with dietary restrictions\n",
    "        \"favorite_ingredients\" : [\"Chicken\", \"Beef\", \"Rice\", \"Lentils\", \"Olive Oil\"], #List with top three favorite ingredients\n",
    "        \"experience_level\": \"Expert\", #Experience level\n",
    "        \"maximum_spice_level\": 10 #Spice level in a scale from 1 to 10\n",
    "}\n",
    "### --------------- ###\n",
    "\n",
    "print(my_food_preferences)"
   ]
  },
  {
   "cell_type": "code",
   "execution_count": null,
   "id": "313b0002",
   "metadata": {
    "height": 30
   },
   "outputs": [],
   "source": []
  },
  {
   "cell_type": "code",
   "execution_count": 36,
   "id": "e22eb004-6a9c-4274-9ae3-c9ee106689fb",
   "metadata": {
    "height": 353
   },
   "outputs": [
    {
     "name": "stdout",
     "output_type": "stream",
     "text": [
      "____________________________________________________________________________________________________\n",
      "### Mutton Curry Recipe\n",
      "\n",
      "**Ingredients:**\n",
      "- 500g mutton, cut into pieces\n",
      "- 2 tablespoons vegetable oil\n",
      "- 1 large onion, finely chopped\n",
      "- 2 tomatoes, chopped\n",
      "- 4 cloves garlic, minced\n",
      "- 1-inch piece ginger, minced\n",
      "- 2 green chilies, slit (adjust for spice level)\n",
      "- 1 teaspoon cumin seeds\n",
      "- 1 teaspoon coriander powder\n",
      "- 1 teaspoon turmeric powder\n",
      "- 1 teaspoon garam masala\n",
      "- Salt to taste\n",
      "- Fresh cilantro for garnish\n",
      "- 1 cup water\n",
      "\n",
      "**Instructions:**\n",
      "\n",
      "1. **Preparation:**\n",
      "   - Wash the mutton pieces under cold water and pat dry.\n",
      "   - Chop the onions, tomatoes, garlic, and ginger.\n",
      "\n",
      "2. **Sauté Aromatics:**\n",
      "   - In a large pot or pressure cooker, heat the vegetable oil over medium heat.\n",
      "   - Add cumin seeds and let them sizzle for a few seconds.\n",
      "   - Add the chopped onions and sauté until golden brown (about 5-7 minutes).\n",
      "\n",
      "3. **Add Garlic and Ginger:**\n",
      "   - Stir in the minced garlic and ginger. Cook for 1-2 minutes until fragrant.\n",
      "\n",
      "4. **Incorporate Tomatoes and Spices:**\n",
      "   - Add the chopped tomatoes and cook until they soften (about 5 minutes).\n",
      "   - Stir in coriander powder, turmeric powder, and salt. Cook for another 2 minutes.\n",
      "\n",
      "5. **Cook the Mutton:**\n",
      "   - Add the mutton pieces to the pot. Stir well to coat the meat with the spice mixture.\n",
      "   - Cook for about 5-7 minutes, stirring occasionally, until the mutton is browned.\n",
      "\n",
      "6. **Add Water:**\n",
      "   - Pour in 1 cup of water. Bring to a boil, then reduce the heat to low.\n",
      "   - If using a pressure cooker, cover and cook for about 20-25 minutes. If using a regular pot, cover and simmer for about 1.5 hours, or until the mutton is tender.\n",
      "\n",
      "7. **Finish with Garam Masala:**\n",
      "   - Once the mutton is cooked, stir in the garam masala and slit green chilies. Cook for an additional 5 minutes.\n",
      "\n",
      "8. **Garnish and Serve:**\n",
      "   - Remove from heat and garnish with fresh cilantro.\n",
      "   - Serve hot with rice or naan.\n",
      "\n",
      "Enjoy your flavorful mutton curry!\n",
      "____________________________________________________________________________________________________\n",
      "\n",
      "\n"
     ]
    }
   ],
   "source": [
    "# Modify the following prompt, \n",
    "# without adding more than two sentences,\n",
    "# so that the provided recipe includes detailed instructions.\n",
    "\n",
    "### EDIT THE FOLLOWING CODE ###\n",
    "#Hint: look at the last sentence in this prompt\n",
    "prompt = f\"\"\"Please suggest a recipe that tries to include \n",
    "the following ingredients: \n",
    "{food_preferences_Jobaer[\"favorite_ingredients\"]}.\n",
    "The recipe should adhere to the following dietary restrictions:\n",
    "{food_preferences_Jobaer[\"dietary_restrictions\"]}.\n",
    "The difficulty of the recipe should be: \n",
    "{food_preferences_Jobaer[\"experience_level\"]}\n",
    "The maximum spice level on a scale of 10 should be: \n",
    "{food_preferences_Jobaer[\"maximum_spice_level\"]} \n",
    "Provide a step by step cooking includes detailed instructions.\n",
    "\"\"\"\n",
    "### --------------- ###\n",
    "\n",
    "print_llm_response(prompt)"
   ]
  }
 ],
 "metadata": {
  "kernelspec": {
   "display_name": "Python 3 (ipykernel)",
   "language": "python",
   "name": "python3"
  },
  "language_info": {
   "codemirror_mode": {
    "name": "ipython",
    "version": 3
   },
   "file_extension": ".py",
   "mimetype": "text/x-python",
   "name": "python",
   "nbconvert_exporter": "python",
   "pygments_lexer": "ipython3",
   "version": "3.9.19"
  }
 },
 "nbformat": 4,
 "nbformat_minor": 5
}
