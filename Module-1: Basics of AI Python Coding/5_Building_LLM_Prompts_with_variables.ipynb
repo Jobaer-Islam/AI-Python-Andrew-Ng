{
 "cells": [
  {
   "cell_type": "markdown",
   "id": "817221c9",
   "metadata": {},
   "source": [
    "# L9: Building LLM prompts with variables"
   ]
  },
  {
   "cell_type": "markdown",
   "id": "36029c06",
   "metadata": {},
   "source": [
    "In the next cell, you will import the function `print_llm_response` that uses an LLM with an instruction that you provide as a string and displays the result."
   ]
  },
  {
   "cell_type": "code",
   "execution_count": 1,
   "id": "cc237f34",
   "metadata": {
    "height": 30
   },
   "outputs": [],
   "source": [
    "from helper_functions import print_llm_response"
   ]
  },
  {
   "cell_type": "markdown",
   "id": "3074c1f9",
   "metadata": {},
   "source": [
    "Basically, you can use that function as if you were asking a chatbot. You just need to provide your instructions as a string. For instance, you can ask \"What is the capital of France?\" using the following code:"
   ]
  },
  {
   "cell_type": "code",
   "execution_count": 2,
   "id": "afcf6686",
   "metadata": {
    "height": 30
   },
   "outputs": [
    {
     "name": "stdout",
     "output_type": "stream",
     "text": [
      "The capital of France is Paris.\n"
     ]
    }
   ],
   "source": [
    "print_llm_response(\"What is the capital of France?\")"
   ]
  },
  {
   "cell_type": "markdown",
   "id": "7e164d69",
   "metadata": {},
   "source": [
    "Let's ask the LLM for the lifestyle description for Otto Matic, whose name is stored in `name`, if he were a `dog_age` years old dog."
   ]
  },
  {
   "cell_type": "code",
   "execution_count": 3,
   "id": "196644ca",
   "metadata": {
    "height": 47
   },
   "outputs": [],
   "source": [
    "name = \"Otto Matic\"\n",
    "dog_age = 21/7"
   ]
  },
  {
   "cell_type": "code",
   "execution_count": 8,
   "id": "ad18f441",
   "metadata": {
    "height": 64
   },
   "outputs": [
    {
     "name": "stdout",
     "output_type": "stream",
     "text": [
      "At 3.0 years old, Otto Matic would be considered an adult dog. This life stage typically entails high energy levels, a strong interest in play and exercise, and a more settled behavior compared to puppyhood. Adult dogs may still exhibit some puppy-like behaviors but are generally more focused, trainable, and have established their personality traits. Regular exercise, mental stimulation, and social interaction are important to keep adult dogs happy and healthy.\n"
     ]
    }
   ],
   "source": [
    "print_llm_response(f\"\"\"If {name} were a dog, he would be {dog_age} years old.\n",
    "Describe what life stage that would be for a dog and what that might \n",
    "entail in terms of energy level, interests, and behavior.\"\"\")"
   ]
  },
  {
   "cell_type": "markdown",
   "id": "8349cb53",
   "metadata": {},
   "source": [
    "<b>You just used AI with your own variables!</b> You used an LLM with instructions that included variables you defined in this notebook.\n",
    "\n",
    "<b>Congratulations 🎉🎉🎉</b>"
   ]
  },
  {
   "cell_type": "markdown",
   "id": "51181411",
   "metadata": {},
   "source": [
    "## Variable names restrictions"
   ]
  },
  {
   "cell_type": "markdown",
   "id": "89d94522",
   "metadata": {},
   "source": [
    "The following variable names also have some problems. Try to fix them yourself or use the help from the chatbot."
   ]
  },
  {
   "cell_type": "code",
   "execution_count": 11,
   "id": "af96e951",
   "metadata": {
    "height": 64
   },
   "outputs": [],
   "source": [
    "driver = \"unicorn\"\n",
    "drivers_vehicle = \"colorful, asymmetric dinosaur car\"\n",
    "favorite_planet = \"Pluto\""
   ]
  },
  {
   "cell_type": "markdown",
   "id": "59a3a881",
   "metadata": {},
   "source": [
    "Now, update the next cell with any changes you made in the previous cell."
   ]
  },
  {
   "cell_type": "code",
   "execution_count": 12,
   "id": "02b7e02c",
   "metadata": {
    "height": 47
   },
   "outputs": [
    {
     "name": "stdout",
     "output_type": "stream",
     "text": [
      "Once upon a time in a magical land far, far away, there was a unicorn named Sparkle who loved to race. Sparkle had heard about the Pluto Champion Cup, the most prestigious racing event in the universe, and she knew she had to compete.\n",
      "\n",
      "On the day of the race, Sparkle lined up at the starting line next to her competitor, a colorful, asymmetric dinosaur car named Roary. The crowd cheered as the race was about to begin.\n",
      "\n",
      "The race was intense as Sparkle and Roary zoomed through the winding tracks of Pluto. Sparkle's hooves galloped gracefully while Roary's wheels spun wildly. The two competitors were neck and neck, each determined to win the coveted champion cup.\n",
      "\n",
      "As they approached the final stretch, Sparkle summoned all her magical powers and unleashed a burst of rainbow energy, propelling her ahead of Roary. With a final burst of speed, Sparkle crossed the finish line first, winning the race and the Pluto Champion Cup.\n",
      "\n",
      "The crowd erupted into cheers as Sparkle was crowned the champion. Roary congratulated Sparkle on her victory, and the two competitors shared a friendly hug.\n",
      "\n",
      "From that day on, Sparkle and Roary became the best of friends, racing together and spreading joy and magic wherever they went. And every year, they returned to Pluto to defend their titles in the Champion Cup, proving that friendship and determination can overcome any challenge.\n",
      "\n",
      "And so, Sparkle the unicorn and Roary the dinosaur car raced off into the sunset, ready for their next adventure.\n"
     ]
    }
   ],
   "source": [
    "print_llm_response(f\"\"\"Write me a 300 word children's story about a {driver} racing\n",
    "a {drivers_vehicle} for the {favorite_planet} champion cup.\"\"\")"
   ]
  },
  {
   "cell_type": "markdown",
   "id": "98ec7de7",
   "metadata": {},
   "source": [
    "## Extra practice\n",
    "\n",
    "Try the exercises below to practice the concepts from this lesson. Read the comments in each cell with the instructions for each exercise.\n",
    "\n",
    "<b>Feel free to use the chatbot if you need help.</b>"
   ]
  },
  {
   "cell_type": "code",
   "execution_count": 15,
   "id": "9fb2bd26",
   "metadata": {
    "height": 81
   },
   "outputs": [
    {
     "name": "stdout",
     "output_type": "stream",
     "text": [
      "My most favorite book is 1001 Ways to Wear a Hat, but I also like 2002 Ways to Wear a Scarf\n"
     ]
    }
   ],
   "source": [
    "# Fix this code\n",
    "favorite_book = \"1001 Ways to Wear a Hat\"\n",
    "second_fav_book = \"2002 Ways to Wear a Scarf\"\n",
    "print(f\"My most favorite book is {favorite_book}, but I also like {second_fav_book}\")"
   ]
  },
  {
   "cell_type": "code",
   "execution_count": 16,
   "id": "407023e6",
   "metadata": {
    "height": 183
   },
   "outputs": [
    {
     "name": "stdout",
     "output_type": "stream",
     "text": [
      "Some best moments from the movie \"3 Idiots\" include the \"All Izz Well\" song sequence, the \"Chatur's speech\" scene, and the \"Rancho's machine demonstration\" scene.\n",
      "\n",
      "For songs similar to \"Levitating\" by Dua Lipa, you may enjoy \"Don't Start Now\" by Dua Lipa, \"Physical\" by Dua Lipa, and \"Break My Heart\" by Dua Lipa.\n",
      "\n",
      "As for the food review of Kacchi Biryani from Sultan's Dine, it is a flavorful and aromatic dish with tender marinated meat layered with fragrant basmati rice and cooked to perfection. The blend of spices and the tenderness of the meat make it a delightful and satisfying meal for biryani lovers.\n"
     ]
    }
   ],
   "source": [
    "# Make variables for your favorite game, movie, and food.\n",
    "# Then use print_llm_response to ask the LLM to recommend you\n",
    "# a new song to listen to based on your likes.\n",
    "\n",
    "fav_song = \"Lavitating of Dua Lipa\"\n",
    "fav_movie = \"3 Idiots of Bollywood\"\n",
    "fav_food = \"Kacchi Biriyani of Sultan's Dine\"\n",
    "print_llm_response(f\"\"\" My favorite movie name is {fav_movie}. Give some best moment from that movie. \n",
    "Afterward recommend me some songs like this one:{fav_song}. Then give food review for this:{fav_food}\n",
    "\"\"\")"
   ]
  }
 ],
 "metadata": {
  "kernelspec": {
   "display_name": "Python 3 (ipykernel)",
   "language": "python",
   "name": "python3"
  },
  "language_info": {
   "codemirror_mode": {
    "name": "ipython",
    "version": 3
   },
   "file_extension": ".py",
   "mimetype": "text/x-python",
   "name": "python",
   "nbconvert_exporter": "python",
   "pygments_lexer": "ipython3",
   "version": "3.9.19"
  }
 },
 "nbformat": 4,
 "nbformat_minor": 5
}
